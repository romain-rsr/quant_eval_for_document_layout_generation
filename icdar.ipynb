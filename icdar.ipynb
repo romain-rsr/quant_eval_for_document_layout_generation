{
 "cells": [
  {
   "cell_type": "code",
   "execution_count": null,
   "metadata": {},
   "outputs": [],
   "source": []
  },
  {
   "cell_type": "code",
   "execution_count": null,
   "metadata": {},
   "outputs": [],
   "source": [
    "#------------------------------------------------------------------------------------------------------------------\n",
    "#                                               icdar\n",
    "#------------------------------------------------------------------------------------------------------------------"
   ]
  },
  {
   "cell_type": "code",
   "execution_count": null,
   "metadata": {},
   "outputs": [],
   "source": []
  },
  {
   "cell_type": "code",
   "execution_count": 8,
   "metadata": {},
   "outputs": [],
   "source": [
    "# public imports\n",
    "import numpy as np\n",
    "\n",
    "# priv imports\n",
    "import sys\n",
    "from importlib import reload\n",
    "p_code=\"/home/paintedpalms/rdrive/taff/code\"\n",
    "sys.path.insert(0,p_code)\n",
    "import omega\n",
    "reload (omega)\n",
    "from omega import *\n",
    "\n",
    "\n",
    "#------------------------------------------------------------------------------------------------------------------\n",
    "# check ratio formula\n",
    "#------------------------------------------------------------------------------------------------------------------\n",
    "\n",
    "if 1==0:\n",
    "    \n",
    "    print(get_score_ratio(0,0))\n",
    "    print(get_score_ratio(1,1))\n",
    "    print(get_score_ratio(0.10001,0.10002)) # 0\n",
    "    print(get_score_ratio(0.00001,0.00002)) # 1\n",
    "    print(get_score_ratio(0.10001,0.00002)) # 1.5\n",
    "    print(get_score_ratio(0.00001,0)) # 2\n",
    "    print(get_score_ratio(0.10001,0)) # 3\n",
    "\n",
    "## data : magazine\n",
    "    \n",
    "if 1==0:\n",
    "\n",
    "    # get raw data from magazine\n",
    "    n_assets=3\n",
    "    p=\"/home/paintedpalms/rdrive/taff/code/data/MagLayout/layoutdata/annotations\"\n",
    "    names=os.listdir(p)\n",
    "    name = names[0]\n",
    "    bboxes_mag=[]\n",
    "    for name in names:\n",
    "        p_xml=p+\"/\"+name\n",
    "        h,w,bboxes,ok=get_bboxes_mag(p_xml)\n",
    "        if len(bboxes)==n_assets:\n",
    "            bboxes_mag.append(bboxes)\n",
    "    y_gan_mag=get_y_gan_from_bboxes(bboxes_mag,\"y_gan\")\n",
    "    p_data=\"/home/paintedpalms/rdrive/taff/code/data\"\n",
    "    np.save(p_data+\"/y_gan_mag_3elems.npy\",y_gan_mag)\n",
    "\n",
    "## eval : process\n",
    "\n",
    "def preprocess_layouts_for_eval(preal,pgen,w):\n",
    "    npa_gen=np.load(pgen)[:1000]\n",
    "    bbox_samples_gen=get_bboxes_from_y_gan2(npa_gen,\"y_gan\")\n",
    "    n=len(bbox_samples_gen)\n",
    "    if 1==0:n_assets_real=get_nb_of_assets(preal)\n",
    "    yreal=shuffle_sub(np.load(preal),n)\n",
    "    bbox_samples_real=get_bboxes_from_y_gan2(yreal,\"y_gan\")\n",
    "    return bbox_samples_real,bbox_samples_gen\n",
    "\n",
    "## eval : prints\n",
    "\n",
    "def print_scores(s1,s2,w,h,option,nround):\n",
    "    if s2==\"\":\n",
    "        name1=\"real\"\n",
    "        name2=\"gen\"\n",
    "        p1=apreal(s1)\n",
    "        p2=apgen(s1)\n",
    "    if s2!=\"\":\n",
    "        name1=\"real\"\n",
    "        name2=\"real\"\n",
    "        p1=apreal(s1)\n",
    "        p2=apreal(s2)\n",
    "    bbox_samples1,bbox_samples2=preprocess_layouts_for_eval(p1,p2,w)\n",
    "    if option==\"align\":\n",
    "        score1=get_layouts_alignment_score_a16(bbox_samples1,w)\n",
    "        score2=get_layouts_alignment_score_a16(bbox_samples2,w)\n",
    "        score_comp=get_comparative_score(score1,score2)\n",
    "    if option==\"over\":\n",
    "        score1=get_layouts_overlap_score(bbox_samples1,w,h,\"\")\n",
    "        score2=get_layouts_overlap_score(bbox_samples2,w,h,\"\")\n",
    "        score_comp=get_comparative_score(score1,score2)\n",
    "    if option==\"div\":\n",
    "        na1=get_nb_of_assets(p1)\n",
    "        na2=get_nb_of_assets(p2)\n",
    "        score1,score2,score_comp=get_layouts_diversity_ratio2(bbox_samples1,bbox_samples2,w,h,na1,na2)\n",
    "    print(get_header(s1,name1,s2,name2),\"\\t\",option,\"\\t\",get_score(score1,nround),\"\\t\",get_score(score2,nround),\"\\t\",get_score(score_comp,nround))\n",
    "\n",
    "def get_header(s1,name1,s2,name2):\n",
    "    while len(s1)<15:s1+=\" \"\n",
    "    while len(s1)<15:s2+=\" \"\n",
    "    if s2==\"\":s=str(s1)+\" \"+str(name1)+\" \"+str(name2)\n",
    "    if s2!=\"\":s=str(s1)+\" \"+str(name1)+\" \"+str(s2)+\" \"+str(name2)\n",
    "    return s\n",
    "    \n",
    "def get_score(score,nround):\n",
    "    score=np.round(score,nround)\n",
    "    score=str(score)\n",
    "    while len(score)<nround+2:score+=\" \"\n",
    "    return score\n",
    "\n",
    "## eval : visuals\n",
    "    \n",
    "def get_layout_images(pdata,w,h,n,option):\n",
    "    # get images\n",
    "    option_color=1\n",
    "    npa=shuffle_sub(np.load(pdata),n)\n",
    "    npa_images=get_images_from_layout_npa(npa,w,h,n,option_color)\n",
    "    if option==1:return npa_images\n",
    "    if option==2:return get_images_from_npa(npa_images)\n",
    "\n",
    "def save_images(pnpa,pim,w,h,n):\n",
    "    if os.path.exists(pim)==False:os.makedirs(pim)\n",
    "    images=get_layout_images(pnpa,w,h,n,2)\n",
    "    for i in range(n):\n",
    "        images[i].save(pim+\"/\"+str(i)+\".png\")\n",
    "\n",
    "def display_images(pnpa,w,h,n):\n",
    "    images=get_layout_images(pnpa,w,h,n,2)\n",
    "    for i in range(n):\n",
    "        display(images[i])\n",
    "        \n",
    "def save_images_icdar(name,w,h,n): \n",
    "    save_images(apreal(name),apimreal(name),w,h,n)\n",
    "    save_images(apgen(name),apimgen(name),w,h,n)\n",
    "        \n",
    "def print_fid(s1,s2,w,h,n):\n",
    "    if s2==\"\":\n",
    "        name1=\"real\"\n",
    "        name2=\"gen\"\n",
    "        p1=apreal(s1)\n",
    "        p2=apgen(s1)\n",
    "    if s2!=\"\":\n",
    "        name1=\"real\"\n",
    "        name2=\"real\"\n",
    "        p1=apreal(s1)\n",
    "        p2=apreal(s2)\n",
    "    images1=get_layout_images(p1,w,h,n,1)\n",
    "    images2=get_layout_images(p1,w,h,n,1)\n",
    "    score=get_fid(images1,images2,0)\n",
    "    print(get_header(s1,name1,s2,name2),\"fid\",score)\n",
    "        \n",
    "## data # 300,600 # 1440,2560\n",
    "\n",
    "def apreal(name):return \"/home/paintedpalms/rdrive/taff/code/data/icdar/\"+name+\"_real.npy\"\n",
    "def apgen(name):return \"/home/paintedpalms/rdrive/taff/code/data/icdar/\"+name+\"_gen.npy\"\n",
    "def apimreal(name):return \"/home/paintedpalms/rdrive/taff/code/results/icdar/\"+name+\"/real\"\n",
    "def apimgen(name):return \"/home/paintedpalms/rdrive/taff/code/results/icdar/\"+name+\"/gen\""
   ]
  },
  {
   "cell_type": "code",
   "execution_count": null,
   "metadata": {},
   "outputs": [],
   "source": []
  },
  {
   "cell_type": "code",
   "execution_count": null,
   "metadata": {},
   "outputs": [],
   "source": []
  },
  {
   "cell_type": "code",
   "execution_count": null,
   "metadata": {},
   "outputs": [],
   "source": []
  },
  {
   "cell_type": "code",
   "execution_count": null,
   "metadata": {},
   "outputs": [],
   "source": [
    "## results : fid\n",
    "\n",
    "# rico_train_low real gen fid 3.045744882999203\n",
    "# rico_train_high real gen fid 2.9906582974738383\n",
    "# synth2_train_low real gen fid 2.720886782997022\n",
    "# synth2_train_high real gen fid 2.6721124211990226\n",
    "# rico_align_low real gen fid 3.6431043489117765\n",
    "# rico_align_high real gen fid 5.988714371055343\n",
    "# rico_over_low real gen fid 5.350570603987279\n",
    "# rico_over_high real gen fid 4.697188905655879\n",
    "# synth2_div_low real gen fid 1.843801529109005\n",
    "# synth2_div_high real gen fid 2.917188528184041\n",
    "# synth2_nassets_3 real gen fid 2.703827064264819\n",
    "# synth2_nassets_5 real gen fid 4.32063949420442\n",
    "# synth2_nassets_7 real gen fid 4.163920769407158\n",
    "\n",
    "print_fid(\"rico_train_low\",\"\",1440,2560,1000)\n",
    "print_fid(\"rico_train_high\",\"\",1440,2560,1000)\n",
    "print_fid(\"synth2_train_low\",\"\",300,600,1000)\n",
    "print_fid(\"synth2_train_high\",\"\",300,600,1000)\n",
    "print_fid(\"rico_align_low\",\"\",1440,2560,1000)\n",
    "print_fid(\"rico_align_high\",\"\",1440,2560,1000)\n",
    "print_fid(\"rico_over_low\",\"\",1440,2560,1000)\n",
    "print_fid(\"rico_over_high\",\"\",1440,2560,1000)\n",
    "print_fid(\"synth2_div_low\",\"\",300,600,1000)\n",
    "print_fid(\"synth2_div_high\",\"\",300,600,1000)\n",
    "print_fid(\"synth2_nassets_3\",\"\",300,600,1000)\n",
    "print_fid(\"synth2_nassets_5\",\"\",300,600,1000)\n",
    "print_fid(\"synth2_nassets_7\",\"\",300,600,1000)"
   ]
  },
  {
   "cell_type": "code",
   "execution_count": 118,
   "metadata": {},
   "outputs": [],
   "source": []
  },
  {
   "cell_type": "code",
   "execution_count": null,
   "metadata": {},
   "outputs": [],
   "source": []
  },
  {
   "cell_type": "code",
   "execution_count": 22,
   "metadata": {},
   "outputs": [
    {
     "name": "stdout",
     "output_type": "stream",
     "text": [
      "rico_train_high real gen \t align \t 0.1199278 \t 0.0947559 \t 0.2355856\n",
      "rico_train_high real gen \t over \t 0.273751  \t 0.3166882 \t 0.1456988\n",
      "rico_train_high real gen \t div \t 0.2338696 \t 0.1744886 \t 0.2929043\n",
      "rico_train_low  real gen \t align \t 0.1199278 \t 0.019234  \t 1.8302087\n",
      "rico_train_low  real gen \t over \t 0.273751  \t 0.1565971 \t 0.5585424\n",
      "rico_train_low  real gen \t div \t 0.2338696 \t 0.0136185 \t 2.8433344\n"
     ]
    }
   ],
   "source": [
    "## data\n",
    "\n",
    "# priv imports\n",
    "import sys\n",
    "from importlib import reload\n",
    "p_code=\"/home/paintedpalms/rdrive/taff/code\"\n",
    "sys.path.insert(0,p_code)\n",
    "import omega\n",
    "reload (omega)\n",
    "from omega import *\n",
    "\n",
    "pdata=\"/home/paintedpalms/rdrive/taff/code/data/icdar/\"\n",
    "presults=\"/home/paintedpalms/rdrive/taff/code/results/icdar/\"\n",
    "\n",
    "# training high/low : \"synth2_train_low\"\n",
    "# training high/low : \"synth2_train_high\"\n",
    "# metrics high/low : \"rico_align_low\"\n",
    "# metrics high/low : \"rico_align_high\"\n",
    "# metrics high/low : \"rico_over_low\"\n",
    "# metrics high/low : \"rico_over_high\"\n",
    "# metrics high/low : \"synth2_div_low\"\n",
    "# metrics high/low : \"synth2_div_high\"\n",
    "# different nb of assets : \"synth2_nassets_3\"\n",
    "# different nb of assets : \"synth2_nassets_5\"\n",
    "# different nb of assets : \"synth2_nassets_7\"\n",
    "\n",
    "## eval : prints : n samples + score real + score gen + score comp\n",
    "\n",
    "nround=7\n",
    "\n",
    "if 1==1:\n",
    "\n",
    "    # training : high/low (low = 100 epoch)\n",
    "    print_scores(\"rico_train_high\",\"\",1440,2560,\"align\",nround)\n",
    "    print_scores(\"rico_train_high\",\"\",1440,2560,\"over\",nround)\n",
    "    print_scores(\"rico_train_high\",\"\",1440,2560,\"div\",nround)\n",
    "    print_scores(\"rico_train_low\",\"\",1440,2560,\"align\",nround)\n",
    "    print_scores(\"rico_train_low\",\"\",1440,2560,\"over\",nround)\n",
    "    print_scores(\"rico_train_low\",\"\",1440,2560,\"div\",nround)\n",
    "\n",
    "if 1==0:\n",
    "    \n",
    "    # training : high/low\n",
    "    print_scores(\"synth2_train_low\",\"\",300,600,\"align\",nround)\n",
    "    print_scores(\"synth2_train_high\",\"\",300,600,\"align\",nround)\n",
    "    print_scores(\"synth2_train_low\",\"\",300,600,\"over\",nround)\n",
    "    print_scores(\"synth2_train_high\",\"\",300,600,\"over\",nround)\n",
    "    print_scores(\"synth2_train_low\",\"\",300,600,\"div\",nround)\n",
    "    print_scores(\"synth2_train_high\",\"\",300,600,\"div\",nround)\n",
    "\n",
    "    # metrics : high/low\n",
    "    print_scores(\"rico_align_low\",\"\",1440,2560,\"align\",nround)\n",
    "    print_scores(\"rico_align_high\",\"\",1440,2560,\"align\",nround)\n",
    "    print_scores(\"rico_over_low\",\"\",1440,2560,\"over\",nround)\n",
    "    print_scores(\"rico_over_high\",\"\",1440,2560,\"over\",nround)\n",
    "    print_scores(\"synth2_div_low\",\"\",1440,2560,\"div\",nround)\n",
    "    print_scores(\"synth2_div_high\",\"\",1440,2560,\"div\",nround)\n",
    "\n",
    "    # nassets : 3,5,7\n",
    "    print_scores(\"synth2_nassets_3\",\"\",1440,2560,\"align\",nround)\n",
    "    print_scores(\"synth2_nassets_3\",\"\",1440,2560,\"over\",nround)\n",
    "    print_scores(\"synth2_nassets_3\",\"\",1440,2560,\"div\",nround)\n",
    "    print_scores(\"synth2_nassets_5\",\"\",1440,2560,\"align\",nround)\n",
    "    print_scores(\"synth2_nassets_5\",\"\",1440,2560,\"over\",nround)\n",
    "    print_scores(\"synth2_nassets_5\",\"\",1440,2560,\"div\",nround)\n",
    "    print_scores(\"synth2_nassets_7\",\"\",1440,2560,\"align\",nround)\n",
    "    print_scores(\"synth2_nassets_7\",\"\",1440,2560,\"over\",nround)\n",
    "    print_scores(\"synth2_nassets_7\",\"\",1440,2560,\"div\",nround)\n",
    "    print_scores(\"synth2_nassets_3\",\"synth2_nassets_7\",1440,2560,\"align\",nround)\n",
    "    print_scores(\"synth2_nassets_3\",\"synth2_nassets_7\",1440,2560,\"over\",nround)\n",
    "    print_scores(\"synth2_nassets_3\",\"synth2_nassets_7\",1440,2560,\"div\",nround)\n",
    "\n",
    "\n",
    "## eval : visuals\n",
    "\n",
    "if 1==0:\n",
    "\n",
    "    # training : high/low\n",
    "    save_images_icdar(\"rico_train_low\",1440,2560,100)\n",
    "    save_images_icdar(\"rico_train_high\",1440,2560,100)\n",
    "    save_images_icdar(\"synth2_train_low\",300,600,100)\n",
    "    save_images_icdar(\"synth2_train_high\",300,600,100)\n",
    "\n",
    "    # metrics : high/low\n",
    "    save_images_icdar(\"rico_align_low\",1440,2560,100)\n",
    "    save_images_icdar(\"rico_align_high\",1440,2560,100)\n",
    "    save_images_icdar(\"rico_over_low\",1440,2560,100)\n",
    "    save_images_icdar(\"rico_over_high\",1440,2560,100)\n",
    "    save_images_icdar(\"synth2_div_low\",300,600,100)\n",
    "    save_images_icdar(\"synth2_div_high\",300,600,100)\n",
    "\n",
    "    # nassets : 3,5,7\n",
    "    save_images_icdar(\"synth2_nassets_3\",300,600,100)\n",
    "    save_images_icdar(\"synth2_nassets_5\",300,600,100)\n",
    "    save_images_icdar(\"synth2_nassets_7\",300,600,100)"
   ]
  },
  {
   "cell_type": "code",
   "execution_count": null,
   "metadata": {},
   "outputs": [],
   "source": []
  },
  {
   "cell_type": "code",
   "execution_count": 11,
   "metadata": {
    "scrolled": false
   },
   "outputs": [
    {
     "name": "stdout",
     "output_type": "stream",
     "text": [
      "synth2_train_low real gen \t align \t 0.11201   \t 0.0882667 \t 0.2382256\n",
      "synth2_train_high real gen \t align \t 0.11201   \t 0.1155467 \t 0.0310863\n",
      "synth2_train_low real gen \t over \t 0.0       \t 1.15e-05  \t 11.6531791\n",
      "synth2_train_high real gen \t over \t 0.0       \t 0.0       \t 0.0      \n",
      "synth2_train_low real gen \t div \t 0.0       \t 0.0224731 \t 19.2304165\n",
      "synth2_train_high real gen \t div \t 0.0       \t 0.0028503 \t 17.165514\n",
      "rico_align_low  real gen \t align \t 0.0       \t 0.0002319 \t 14.6568387\n",
      "rico_align_high real gen \t align \t 0.3650396 \t 0.3402431 \t 0.0703456\n",
      "rico_over_low   real gen \t over \t 0.0       \t 0.0011157 \t 16.2275604\n",
      "rico_over_high  real gen \t over \t 0.4141978 \t 0.6956504 \t 0.5185037\n",
      "synth2_div_low  real gen \t div \t 0.0021929 \t 0.0001771 \t 2.5164228\n",
      "synth2_div_high real gen \t div \t 0.0048155 \t 0.0004386 \t 2.3959341\n",
      "synth2_nassets_3 real gen \t align \t 0.0233354 \t 0.0240722 \t 0.0310863\n",
      "synth2_nassets_3 real gen \t over \t 0.0       \t 0.0       \t 0.0      \n",
      "synth2_nassets_3 real gen \t div \t 0.0       \t 0.000668  \t 15.7146804\n",
      "synth2_nassets_5 real gen \t align \t 0.0427118 \t 0.0419792 \t 0.0173019\n",
      "synth2_nassets_5 real gen \t over \t 0.0       \t 1.56e-05  \t 11.9604335\n",
      "synth2_nassets_5 real gen \t div \t 0.0       \t 2.14e-05  \t 12.2720233\n",
      "synth2_nassets_7 real gen \t align \t 0.0431681 \t 0.0484396 \t 0.1152165\n",
      "synth2_nassets_7 real gen \t over \t 0.0       \t 2.85e-05  \t 12.5616043\n",
      "synth2_nassets_7 real gen \t div \t 0.0       \t 0.0002387 \t 14.6855722\n",
      "synth2_nassets_3 real synth2_nassets_7 real \t align \t 0.0233354 \t 0.0414875 \t 0.5754199\n",
      "synth2_nassets_3 real synth2_nassets_7 real \t over \t 0.0       \t 0.0       \t 0.0      \n",
      "synth2_nassets_3 real synth2_nassets_7 real \t div \t 0.0       \t 0.0       \t 0.0      \n"
     ]
    }
   ],
   "source": [
    "# ok"
   ]
  },
  {
   "cell_type": "code",
   "execution_count": null,
   "metadata": {},
   "outputs": [],
   "source": []
  },
  {
   "cell_type": "code",
   "execution_count": 11,
   "metadata": {
    "scrolled": true
   },
   "outputs": [
    {
     "name": "stdout",
     "output_type": "stream",
     "text": [
      "synth2 : 7-assets layouts\n"
     ]
    },
    {
     "data": {
      "image/png": "[encoded data removed]",
      "text/plain": [
       "<PIL.Image.Image image mode=RGB size=100x200 at 0x7F941F786610>"
      ]
     },
     "metadata": {},
     "output_type": "display_data"
    },
    {
     "data": {
      "image/png": "[encoded data removed]",
      "text/plain": [
       "<PIL.Image.Image image mode=RGB size=100x200 at 0x7F941F786760>"
      ]
     },
     "metadata": {},
     "output_type": "display_data"
    },
    {
     "data": {
      "image/png": "[encoded data removed]",
      "text/plain": [
       "<PIL.Image.Image image mode=RGB size=100x200 at 0x7F941F786D30>"
      ]
     },
     "metadata": {},
     "output_type": "display_data"
    },
    {
     "data": {
      "image/png": "[encoded data removed]",
      "text/plain": [
       "<PIL.Image.Image image mode=RGB size=100x200 at 0x7F941F786730>"
      ]
     },
     "metadata": {},
     "output_type": "display_data"
    },
    {
     "data": {
      "image/png": "[encoded data removed]",
      "text/plain": [
       "<PIL.Image.Image image mode=RGB size=100x200 at 0x7F94213819A0>"
      ]
     },
     "metadata": {},
     "output_type": "display_data"
    },
    {
     "name": "stdout",
     "output_type": "stream",
     "text": [
      "\n",
      "rico : higly aligned layouts\n"
     ]
    },
    {
     "data": {
      "image/png": "[encoded data removed]",
      "text/plain": [
       "<PIL.Image.Image image mode=RGB size=100x177 at 0x7F942136CD60>"
      ]
     },
     "metadata": {},
     "output_type": "display_data"
    },
    {
     "data": {
      "image/png": "[encoded data removed]",
      "text/plain": [
       "<PIL.Image.Image image mode=RGB size=100x177 at 0x7F942136CBB0>"
      ]
     },
     "metadata": {},
     "output_type": "display_data"
    },
    {
     "data": {
      "image/png": "[encoded data removed]",
      "text/plain": [
       "<PIL.Image.Image image mode=RGB size=100x177 at 0x7F942136CAC0>"
      ]
     },
     "metadata": {},
     "output_type": "display_data"
    },
    {
     "data": {
      "image/png": "[encoded data removed]",
      "text/plain": [
       "<PIL.Image.Image image mode=RGB size=100x177 at 0x7F942136C3D0>"
      ]
     },
     "metadata": {},
     "output_type": "display_data"
    },
    {
     "data": {
      "image/png": "[encoded data removed]",
      "text/plain": [
       "<PIL.Image.Image image mode=RGB size=100x177 at 0x7F942136C040>"
      ]
     },
     "metadata": {},
     "output_type": "display_data"
    },
    {
     "name": "stdout",
     "output_type": "stream",
     "text": [
      "\n"
     ]
    }
   ],
   "source": [
    "## display visuals\n",
    "\n",
    "# training high/low : \"synth2_train_low\"\n",
    "# training high/low : \"synth2_train_high\"\n",
    "# metrics high/low : \"rico_align_low\"\n",
    "# metrics high/low : \"rico_align_high\"\n",
    "# metrics high/low : \"rico_over_low\"\n",
    "# metrics high/low : \"rico_over_high\"\n",
    "# metrics high/low : \"synth2_div_low\"\n",
    "# metrics high/low : \"synth2_div_high\"\n",
    "# different nb of assets : \"synth2_nassets_3\"\n",
    "# different nb of assets : \"synth2_nassets_5\"\n",
    "# different nb of assets : \"synth2_nassets_7\"\n",
    "\n",
    "print(\"synth2 : 7-assets layouts\")\n",
    "display_images(apreal(\"synth2_nassets_7\"),300,600,5)\n",
    "print(\"\")\n",
    "\n",
    "print(\"rico : highly aligned layouts\")\n",
    "display_images(apreal(\"rico_align_high\"),1440,2560,5)\n",
    "print(\"\")"
   ]
  },
  {
   "cell_type": "code",
   "execution_count": null,
   "metadata": {},
   "outputs": [],
   "source": []
  },
  {
   "cell_type": "code",
   "execution_count": null,
   "metadata": {},
   "outputs": [],
   "source": []
  },
  {
   "cell_type": "code",
   "execution_count": null,
   "metadata": {},
   "outputs": [],
   "source": []
  },
  {
   "cell_type": "code",
   "execution_count": null,
   "metadata": {},
   "outputs": [],
   "source": []
  },
  {
   "cell_type": "code",
   "execution_count": null,
   "metadata": {},
   "outputs": [],
   "source": []
  }
 ],
 "metadata": {
  "kernelspec": {
   "display_name": "Python 3",
   "language": "python",
   "name": "python3"
  },
  "language_info": {
   "codemirror_mode": {
    "name": "ipython",
    "version": 3
   },
   "file_extension": ".py",
   "mimetype": "text/x-python",
   "name": "python",
   "nbconvert_exporter": "python",
   "pygments_lexer": "ipython3",
   "version": "3.8.5"
  }
 },
 "nbformat": 4,
 "nbformat_minor": 4
}
